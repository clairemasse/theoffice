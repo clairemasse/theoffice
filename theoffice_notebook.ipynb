{
  "nbformat": 4,
  "nbformat_minor": 0,
  "metadata": {
    "colab": {
      "name": "theoffice_v2.ipynb",
      "provenance": []
    },
    "kernelspec": {
      "name": "python3",
      "display_name": "Python 3"
    }
  },
  "cells": [
    {
      "cell_type": "markdown",
      "metadata": {
        "id": "qNjrrnFzKUhb",
        "colab_type": "text"
      },
      "source": [
        "# The Office \n",
        "##### Analysis of lines spoken over 9 seasons"
      ]
    },
    {
      "cell_type": "code",
      "metadata": {
        "id": "F5Hafy09xHbN",
        "colab_type": "code",
        "colab": {
          "base_uri": "https://localhost:8080/",
          "height": 357
        },
        "outputId": "b1ca865d-c3e7-48b0-b23d-32c3016259c9"
      },
      "source": [
        "#Import necessary libraries and data file\n",
        "\n",
        "import pandas as pd\n",
        "import numpy as np\n",
        "import re\n",
        "import matplotlib.pyplot as plt\n",
        "%matplotlib inline\n",
        "import nltk\n",
        "nltk.download('vader_lexicon')\n",
        "nltk.download('stopwords')\n",
        "nltk.download('punkt')\n",
        "from nltk.sentiment.vader import SentimentIntensityAnalyzer\n",
        "from nltk import word_tokenize\n",
        "\n",
        "\n",
        "# Source: Reddit, https://www.reddit.com/r/datasets/comments/6yt3og/every_line_from_every_episode_of_the_office_us/\n",
        "url = 'https://raw.githubusercontent.com/clairemasse/theoffice/master/theofficelines.csv'\n",
        "theoffice = pd.read_csv(url, index_col='id')\n",
        "print(theoffice.head(10))"
      ],
      "execution_count": 248,
      "outputs": [
        {
          "output_type": "stream",
          "text": [
            "[nltk_data] Downloading package vader_lexicon to /root/nltk_data...\n",
            "[nltk_data]   Package vader_lexicon is already up-to-date!\n",
            "[nltk_data] Downloading package stopwords to /root/nltk_data...\n",
            "[nltk_data]   Package stopwords is already up-to-date!\n",
            "[nltk_data] Downloading package punkt to /root/nltk_data...\n",
            "[nltk_data]   Package punkt is already up-to-date!\n",
            "    season  episode  ...  speaker deleted\n",
            "id                   ...                 \n",
            "1        1        1  ...  Michael   False\n",
            "2        1        1  ...      Jim   False\n",
            "3        1        1  ...  Michael   False\n",
            "4        1        1  ...      Jim   False\n",
            "5        1        1  ...  Michael   False\n",
            "6        1        1  ...  Michael   False\n",
            "7        1        1  ...  Michael   False\n",
            "8        1        1  ...      Pam   False\n",
            "9        1        1  ...  Michael   False\n",
            "10       1        1  ...      Pam   False\n",
            "\n",
            "[10 rows x 6 columns]\n"
          ],
          "name": "stdout"
        }
      ]
    },
    {
      "cell_type": "code",
      "metadata": {
        "id": "-YIIsEnJxcBF",
        "colab_type": "code",
        "colab": {
          "base_uri": "https://localhost:8080/",
          "height": 34
        },
        "outputId": "6fdf1c3d-ee52-44df-d411-e9d9d14e03f2"
      },
      "source": [
        "# drop deleted scenes\n",
        "deletedscenes = (theoffice['deleted'] == True)\n",
        "theoffice.drop(index=theoffice[deletedscenes].index, inplace=True)\n",
        "theoffice.drop(['deleted'], axis=1, inplace=True)\n",
        "\n",
        "num_lines = len(theoffice)\n",
        "print('Excluding deleted scenes, there are ' +\n",
        "      str(num_lines) + ' lines in the dataframe.')"
      ],
      "execution_count": 249,
      "outputs": [
        {
          "output_type": "stream",
          "text": [
            "Excluding deleted scenes, there are 57973 lines in the dataframe.\n"
          ],
          "name": "stdout"
        }
      ]
    },
    {
      "cell_type": "code",
      "metadata": {
        "id": "g04EG7kMxeZX",
        "colab_type": "code",
        "colab": {
          "base_uri": "https://localhost:8080/",
          "height": 34
        },
        "outputId": "94fecda8-55d8-499e-8b70-6a0b20641252"
      },
      "source": [
        "# fix incorrectly formatted apostrophes in line_text column\n",
        "lines = theoffice['line_text']\n",
        "lines.str.replace('���', \"'\")\n",
        "\n",
        "#Check\n",
        "'���' in lines"
      ],
      "execution_count": 250,
      "outputs": [
        {
          "output_type": "execute_result",
          "data": {
            "text/plain": [
              "False"
            ]
          },
          "metadata": {
            "tags": []
          },
          "execution_count": 250
        }
      ]
    },
    {
      "cell_type": "code",
      "metadata": {
        "id": "X7EgmSsC664k",
        "colab_type": "code",
        "colab": {}
      },
      "source": [
        "#Consolidate duplicate characters\n",
        "\n",
        "theoffice['speaker'].replace('Deangelo','DeAngelo', inplace=True)\n",
        "theoffice['speaker'].replace('Packer','Todd Packer', inplace=True)"
      ],
      "execution_count": 0,
      "outputs": []
    },
    {
      "cell_type": "code",
      "metadata": {
        "id": "RpE99b_Gxztj",
        "colab_type": "code",
        "colab": {
          "base_uri": "https://localhost:8080/",
          "height": 170
        },
        "outputId": "94f8bc19-1d75-4faa-8bdd-d6486a5fdb06"
      },
      "source": [
        "# Add a column to the dataframe with number of words in each line\n",
        "def numwords(line):\n",
        "    return len(line.split(\" \"))\n",
        "\n",
        "\n",
        "theoffice['length'] = theoffice['line_text'].apply(numwords)\n",
        "print(theoffice.head())"
      ],
      "execution_count": 252,
      "outputs": [
        {
          "output_type": "stream",
          "text": [
            "    season  episode  ...  speaker length\n",
            "id                   ...                \n",
            "1        1        1  ...  Michael     14\n",
            "2        1        1  ...      Jim      9\n",
            "3        1        1  ...  Michael     14\n",
            "4        1        1  ...      Jim      8\n",
            "5        1        1  ...  Michael     10\n",
            "\n",
            "[5 rows x 6 columns]\n"
          ],
          "name": "stdout"
        }
      ]
    },
    {
      "cell_type": "code",
      "metadata": {
        "id": "GNI_IArE1Jyt",
        "colab_type": "code",
        "colab": {
          "base_uri": "https://localhost:8080/",
          "height": 235
        },
        "outputId": "55002168-5c73-46ec-fd4e-4d71094c082c"
      },
      "source": [
        "# Sentiment Analysis\n",
        "sid = SentimentIntensityAnalyzer()\n",
        "\n",
        "sentiments = []\n",
        "for line in lines:\n",
        "    ss = sid.polarity_scores(line)['compound']\n",
        "    sentiments.append(ss)\n",
        "\n",
        "theoffice['sentiment'] = sentiments\n",
        "\n",
        "theoffice.head()"
      ],
      "execution_count": 253,
      "outputs": [
        {
          "output_type": "execute_result",
          "data": {
            "text/html": [
              "<div>\n",
              "<style scoped>\n",
              "    .dataframe tbody tr th:only-of-type {\n",
              "        vertical-align: middle;\n",
              "    }\n",
              "\n",
              "    .dataframe tbody tr th {\n",
              "        vertical-align: top;\n",
              "    }\n",
              "\n",
              "    .dataframe thead th {\n",
              "        text-align: right;\n",
              "    }\n",
              "</style>\n",
              "<table border=\"1\" class=\"dataframe\">\n",
              "  <thead>\n",
              "    <tr style=\"text-align: right;\">\n",
              "      <th></th>\n",
              "      <th>season</th>\n",
              "      <th>episode</th>\n",
              "      <th>scene</th>\n",
              "      <th>line_text</th>\n",
              "      <th>speaker</th>\n",
              "      <th>length</th>\n",
              "      <th>sentiment</th>\n",
              "    </tr>\n",
              "    <tr>\n",
              "      <th>id</th>\n",
              "      <th></th>\n",
              "      <th></th>\n",
              "      <th></th>\n",
              "      <th></th>\n",
              "      <th></th>\n",
              "      <th></th>\n",
              "      <th></th>\n",
              "    </tr>\n",
              "  </thead>\n",
              "  <tbody>\n",
              "    <tr>\n",
              "      <th>1</th>\n",
              "      <td>1</td>\n",
              "      <td>1</td>\n",
              "      <td>1</td>\n",
              "      <td>All right Jim. Your quarterlies look very good...</td>\n",
              "      <td>Michael</td>\n",
              "      <td>14</td>\n",
              "      <td>0.4927</td>\n",
              "    </tr>\n",
              "    <tr>\n",
              "      <th>2</th>\n",
              "      <td>1</td>\n",
              "      <td>1</td>\n",
              "      <td>1</td>\n",
              "      <td>Oh, I told you. I couldn't close it. So...</td>\n",
              "      <td>Jim</td>\n",
              "      <td>9</td>\n",
              "      <td>0.0000</td>\n",
              "    </tr>\n",
              "    <tr>\n",
              "      <th>3</th>\n",
              "      <td>1</td>\n",
              "      <td>1</td>\n",
              "      <td>1</td>\n",
              "      <td>So you've come to the master for guidance? Is ...</td>\n",
              "      <td>Michael</td>\n",
              "      <td>14</td>\n",
              "      <td>0.0000</td>\n",
              "    </tr>\n",
              "    <tr>\n",
              "      <th>4</th>\n",
              "      <td>1</td>\n",
              "      <td>1</td>\n",
              "      <td>1</td>\n",
              "      <td>Actually, you called me in here, but yeah.</td>\n",
              "      <td>Jim</td>\n",
              "      <td>8</td>\n",
              "      <td>0.4215</td>\n",
              "    </tr>\n",
              "    <tr>\n",
              "      <th>5</th>\n",
              "      <td>1</td>\n",
              "      <td>1</td>\n",
              "      <td>1</td>\n",
              "      <td>All right. Well, let me show you how it's done.</td>\n",
              "      <td>Michael</td>\n",
              "      <td>10</td>\n",
              "      <td>0.2732</td>\n",
              "    </tr>\n",
              "  </tbody>\n",
              "</table>\n",
              "</div>"
            ],
            "text/plain": [
              "    season  episode  scene  ...  speaker length  sentiment\n",
              "id                          ...                           \n",
              "1        1        1      1  ...  Michael     14     0.4927\n",
              "2        1        1      1  ...      Jim      9     0.0000\n",
              "3        1        1      1  ...  Michael     14     0.0000\n",
              "4        1        1      1  ...      Jim      8     0.4215\n",
              "5        1        1      1  ...  Michael     10     0.2732\n",
              "\n",
              "[5 rows x 7 columns]"
            ]
          },
          "metadata": {
            "tags": []
          },
          "execution_count": 253
        }
      ]
    },
    {
      "cell_type": "code",
      "metadata": {
        "id": "0DX9Ezgkx1zi",
        "colab_type": "code",
        "colab": {}
      },
      "source": [
        "# initial look at data by speaker/character\n",
        "speaker_col = theoffice['speaker']\n",
        "characters = pd.DataFrame(speaker_col.value_counts())\n",
        "characters.reset_index(inplace=True)\n",
        "characters.rename(columns={'index': 'speaker',\n",
        "                           'speaker': 'num_lines'}, inplace=True)\n",
        "# we only want to look at recurring characters -- drop speakers with fewer than 100 lines throughout the whole series\n",
        "fewlines = characters.loc[:, 'num_lines'] < 100\n",
        "characters.drop(index=characters[fewlines].index, inplace=True)\n",
        "\n",
        "# scanning above data, we notice speakers 'All' and 'Everyone' which don't represent specific characters - let's drop those\n",
        "not_people = ['All', 'Everyone']\n",
        "all = characters.loc[:, 'speaker'].str.contains('|'.join(not_people))\n",
        "characters.drop(index=characters[all].index, inplace=True)\n",
        "\n"
      ],
      "execution_count": 0,
      "outputs": []
    },
    {
      "cell_type": "code",
      "metadata": {
        "id": "D-SR9emM3Usp",
        "colab_type": "code",
        "colab": {
          "base_uri": "https://localhost:8080/",
          "height": 136
        },
        "outputId": "2e4faf09-9fc7-47ee-90ca-077eacc1da90"
      },
      "source": [
        "\n",
        "# drop rows from original dataframe to match those we dropped in speakers df\n",
        "keepspeakers = ~theoffice['speaker'].isin(characters['speaker'])\n",
        "theoffice.drop(index=theoffice[keepspeakers].index, inplace=True)\n",
        "\n",
        "# add num_lines column into theoffice dataframe\n",
        "theoffice = pd.merge(theoffice, characters, on='speaker')\n",
        "# Calculate average length of line for each person\n",
        "avg_words = pd.DataFrame(theoffice.groupby('speaker')[\n",
        "                         'length'].mean().round()).reset_index()\n",
        "characters['avg_words'] = avg_words['length']\n",
        "print(characters.head())\n",
        "\n",
        "print(len(theoffice))"
      ],
      "execution_count": 255,
      "outputs": [
        {
          "output_type": "stream",
          "text": [
            "   speaker  num_lines  avg_words\n",
            "0  Michael      11574       13.0\n",
            "1   Dwight       7167        9.0\n",
            "2      Jim       6609        9.0\n",
            "3      Pam       5205       10.0\n",
            "4     Andy       3969       11.0\n",
            "53165\n"
          ],
          "name": "stdout"
        }
      ]
    },
    {
      "cell_type": "code",
      "metadata": {
        "id": "YCJ4S4swx8ti",
        "colab_type": "code",
        "colab": {
          "base_uri": "https://localhost:8080/",
          "height": 356
        },
        "outputId": "7e5a677b-182c-4ef2-9a3b-2b97e9ce3f97"
      },
      "source": [
        "# Let's see how many words each character spoke\n",
        "listcharacters = characters['speaker'].tolist()\n",
        "\n",
        "\n",
        "def totalwords(character):\n",
        "    rows = (theoffice.loc[theoffice['speaker'] == character, 'length'])\n",
        "    totalwords = rows.sum()\n",
        "    return totalwords\n",
        "\n",
        "\n",
        "characterwords = []\n",
        "for character in listcharacters:\n",
        "    characterwords.append(totalwords(character))\n",
        "\n",
        "\n",
        "y_pos = np.arange(len(listcharacters))\n",
        "plt.bar(y_pos, characterwords)\n",
        "plt.xlabel('Character')\n",
        "plt.xticks(y_pos, listcharacters, rotation='vertical')\n",
        "plt.ylabel('Number of Words')\n",
        "plt.title('Total Number of Words Spoken by Character')\n",
        "plt.show()\n"
      ],
      "execution_count": 256,
      "outputs": [
        {
          "output_type": "display_data",
          "data": {
            "image/png": "[encoded data removed]",
            "text/plain": [
              "<Figure size 432x288 with 1 Axes>"
            ]
          },
          "metadata": {
            "tags": [],
            "needs_background": "light"
          }
        }
      ]
    },
    {
      "cell_type": "code",
      "metadata": {
        "id": "mwsgR5c-yD8W",
        "colab_type": "code",
        "colab": {
          "base_uri": "https://localhost:8080/",
          "height": 458
        },
        "outputId": "24b6ba08-7d8a-425e-953b-010e7b05fef1"
      },
      "source": [
        "\n",
        "avglength = theoffice.groupby('speaker')['length'].mean().rename('Average Line Length').reset_index()\n",
        "avglength = avglength.sort_values(by='Average Line Length', ascending=False)\n",
        "\n",
        "print(avglength.head())\n",
        "\n",
        "listcharacters = avglength['speaker'].tolist()\n",
        "y_pos = np.arange(len(listcharacters))\n",
        "length = avglength['Average Line Length'].tolist()\n",
        "\n",
        "\n",
        "plt.bar(y_pos, length)\n",
        "plt.xlabel('Character')\n",
        "plt.ylabel('Average Line Length')\n",
        "plt.xticks(y_pos, listcharacters, rotation='vertical')\n",
        "plt.title('Average Line Length of each Character')\n",
        "plt.show()\n"
      ],
      "execution_count": 257,
      "outputs": [
        {
          "output_type": "stream",
          "text": [
            "     speaker  Average Line Length\n",
            "15        Jo            15.953608\n",
            "8   DeAngelo            15.780000\n",
            "20   Michael            14.912995\n",
            "11      Gabe            14.651376\n",
            "26    Robert            14.646512\n"
          ],
          "name": "stdout"
        },
        {
          "output_type": "display_data",
          "data": {
            "image/png": "[encoded data removed]",
            "text/plain": [
              "<Figure size 432x288 with 1 Axes>"
            ]
          },
          "metadata": {
            "tags": [],
            "needs_background": "light"
          }
        }
      ]
    },
    {
      "cell_type": "code",
      "metadata": {
        "id": "C_cpwriHyNAm",
        "colab_type": "code",
        "colab": {
          "base_uri": "https://localhost:8080/",
          "height": 458
        },
        "outputId": "a93f78f7-9897-4a72-c193-8f25daea64c9"
      },
      "source": [
        "#Average sentiment per character\n",
        "\n",
        "avgsent = theoffice.groupby('speaker')['sentiment'].mean().rename('Average Sentiment').reset_index()\n",
        "avgsent = avgsent.sort_values(by='Average Sentiment', ascending=False)\n",
        "\n",
        "print(avgsent.head())\n",
        "\n",
        "listcharacters = avgsent['speaker'].tolist()\n",
        "y_pos = np.arange(len(listcharacters))\n",
        "length = avgsent['Average Sentiment'].tolist()\n",
        "\n",
        "\n",
        "plt.bar(y_pos, length)\n",
        "plt.xlabel('Character')\n",
        "plt.ylabel('Average Sentiment Score')\n",
        "plt.xticks(y_pos, listcharacters, rotation='vertical')\n",
        "plt.title('Average Sentiment Score of each Character')\n",
        "plt.show()"
      ],
      "execution_count": 258,
      "outputs": [
        {
          "output_type": "stream",
          "text": [
            "     speaker  Average Sentiment\n",
            "3      Clark           0.172949\n",
            "6      David           0.172553\n",
            "8   DeAngelo           0.161588\n",
            "16     Karen           0.150811\n",
            "20   Michael           0.147260\n"
          ],
          "name": "stdout"
        },
        {
          "output_type": "display_data",
          "data": {
            "image/png": "[encoded data removed]",
            "text/plain": [
              "<Figure size 432x288 with 1 Axes>"
            ]
          },
          "metadata": {
            "tags": [],
            "needs_background": "light"
          }
        }
      ]
    },
    {
      "cell_type": "code",
      "metadata": {
        "id": "mZiDBBH3H5Ze",
        "colab_type": "code",
        "colab": {}
      },
      "source": [
        ""
      ],
      "execution_count": 0,
      "outputs": []
    },
    {
      "cell_type": "code",
      "metadata": {
        "id": "tv7vs6nUIZgl",
        "colab_type": "code",
        "colab": {}
      },
      "source": [
        ""
      ],
      "execution_count": 0,
      "outputs": []
    }
  ]
}